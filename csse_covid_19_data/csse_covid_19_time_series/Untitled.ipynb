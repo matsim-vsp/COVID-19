{
 "cells": [
  {
   "cell_type": "code",
   "execution_count": null,
   "metadata": {},
   "outputs": [],
   "source": [
    "import pandas as pd\n",
    "import matplotlib.pyplot as plt\n",
    "import numpy as np\n",
    "from cycler import cycler"
   ]
  },
  {
   "cell_type": "code",
   "execution_count": null,
   "metadata": {},
   "outputs": [],
   "source": [
    "rr = pd.read_csv('time_series_19-covid-Recovered.csv', sep=',')\n",
    "rr2 = rr.set_index(['Country/Region','Province/State'])\n",
    "rr2.head(3)"
   ]
  },
  {
   "cell_type": "code",
   "execution_count": null,
   "metadata": {},
   "outputs": [],
   "source": [
    "# read csv:\n",
    "#df = pd.read_csv('time_series_19-covid-Confirmed.csv', sep=';', index_col=0,keep_default_na=False).T\n",
    "df = pd.read_csv('time_series_19-covid-Confirmed.csv', sep=',')\n",
    "# re-set the index (row headers):\n",
    "df2 = df.set_index(['Country/Region','Province/State'])\n",
    "df2.head(3)"
   ]
  },
  {
   "cell_type": "code",
   "execution_count": null,
   "metadata": {},
   "outputs": [],
   "source": [
    "dfX = df2-rr2\n",
    "dfX.head(3)"
   ]
  },
  {
   "cell_type": "code",
   "execution_count": null,
   "metadata": {},
   "outputs": [],
   "source": [
    "#remove spurious last column:\n",
    "df2b = dfX.loc[:, ~df2.columns.str.contains('^Unnamed')]\n",
    "# transpose:\n",
    "df3 = df2b.T\n",
    "df3.head(5)"
   ]
  },
  {
   "cell_type": "code",
   "execution_count": null,
   "metadata": {},
   "outputs": [],
   "source": [
    "# remove Lat/Long rows\n",
    "df4 = df3.drop(['Lat','Long'])\n",
    "df4.tail(3)"
   ]
  },
  {
   "cell_type": "code",
   "execution_count": null,
   "metadata": {},
   "outputs": [],
   "source": [
    "# convert index to dateTime:\n",
    "df4.index = pd.DatetimeIndex(df4.index)\n",
    "df4.head(3)"
   ]
  },
  {
   "cell_type": "code",
   "execution_count": null,
   "metadata": {},
   "outputs": [],
   "source": [
    "# extract regions we are interested in:\n",
    "df6 = df4.loc[:,[\n",
    "    ('China','Hubei'),\n",
    "#    ('China','Beijing'),\n",
    "    ('Germany',''),\n",
    "    ('Italy',''),\n",
    "#    ('Japan',''),\n",
    "#    ('France','France'),\n",
    "#    ('China','Anhui'),\n",
    "#    ('Switzerland',''),\n",
    "    ('Singapore',''),\n",
    "    ('Korea, South',''),\n",
    "#    ('Poland',''),\n",
    "#    (\"US\",\"Washington\"),\n",
    "#    (\"Spain\",\"\")\n",
    "]]\n",
    "df6.tail(3)"
   ]
  },
  {
   "cell_type": "code",
   "execution_count": null,
   "metadata": {},
   "outputs": [],
   "source": [
    "# divide by population density.  first had this via separate csv files, \n",
    "# but the \"countries\" are not stable in the upstream data\n",
    "#df6.loc[:,('China','Beijing')] /= 22.\n",
    "df6.loc[:,('China','Hubei')] /= 60.\n",
    "#df6.loc[:,('Japan',np.nan)] /= 126.8\n",
    "df6.loc[:,('Korea, South',np.nan)] /= 52.\n",
    "df6.loc[:,('Singapore',np.nan)] /= 5.85\n",
    "#df6.loc[:,('France','France')] /= 67.\n",
    "df6.loc[:,('Germany',np.nan)] /= 82.79\n",
    "df6.loc[:,('Italy',np.nan)] /= 60.5\n",
    "#df6.loc[:,('Switzerland',np.nan)] /= 8.57\n",
    "#df6.loc[:,('Poland',np.nan)] /= 4.\n",
    "#df6.loc[:,('US','Washington')] /= 7.6\n",
    "#df6.loc[:,(\"US\",\"King County, WA\")] /= 2.2\n",
    "#df6.loc[:,(\"Spain\",np.nan)] /= 47.\n",
    "df6.tail(3)"
   ]
  },
  {
   "cell_type": "code",
   "execution_count": null,
   "metadata": {},
   "outputs": [],
   "source": [
    "# time-shifted Hubei values:\n",
    "hb = df6[\"China\",\"Hubei\"]\n",
    "hb.index = pd.date_range(start=\"2020-03-05\",periods=hb.size)\n",
    "hb.name=(\"China\",\"Hubei time-shifted\")\n",
    "hb.tail(3)"
   ]
  },
  {
   "cell_type": "code",
   "execution_count": null,
   "metadata": {},
   "outputs": [],
   "source": [
    "df6b = pd.concat([df6,hb],axis=1) #.fillna(value=0)\n",
    "# mar/12 data looks faulty especially in Europe:\n",
    "df6b.drop(index=pd.to_datetime('2020-03-12'),inplace=True)\n",
    "df6b.loc['2020-03-10':'2020-03-18',:]"
   ]
  },
  {
   "cell_type": "code",
   "execution_count": null,
   "metadata": {},
   "outputs": [],
   "source": []
  },
  {
   "cell_type": "code",
   "execution_count": null,
   "metadata": {},
   "outputs": [],
   "source": [
    "germany = df6b['Germany']"
   ]
  },
  {
   "cell_type": "code",
   "execution_count": null,
   "metadata": {},
   "outputs": [],
   "source": [
    "#fit = pd.Series(0.25*np.exp(np.arange(17,50,1)*np.log(10.)/9.)) # pro Bevölkerung\n",
    "fit = pd.Series(0.25*np.exp(np.arange(0,30,1)*np.log(10.)/9.)) # ohne Bevölkerungskorrektur\n",
    "fit.index = pd.date_range(start=\"2020-02-22\",periods=fit.size)"
   ]
  },
  {
   "cell_type": "code",
   "execution_count": null,
   "metadata": {},
   "outputs": [],
   "source": [
    "combined = pd.concat([germany,fit],axis=1)"
   ]
  },
  {
   "cell_type": "code",
   "execution_count": null,
   "metadata": {},
   "outputs": [],
   "source": [
    "plt.close('all')\n",
    "plt.rcParams['figure.figsize']=[12,7]\n",
    "default_cycler = (cycler(color=['r', 'g', 'b', 'y']) +\n",
    "                  cycler(linestyle=['', '-', ':', '-.']) +\n",
    "                  cycler(marker=['o','','','']))\n",
    "plt.rc('lines', linewidth=1)\n",
    "plt.rc('axes', prop_cycle=default_cycler)\n",
    "combined.plot(kind='line',\n",
    "                     logy=True,ylim=(0.01,100000),xlim=(\"2020-01-22\",\"2020-04-01\"),\n",
    "                    grid=True)"
   ]
  },
  {
   "cell_type": "code",
   "execution_count": null,
   "metadata": {},
   "outputs": [],
   "source": [
    "default_cycler = (cycler(color=['blue','orange','green','red','purple','brown','pink'\n",
    "                                ,'gray','olive','cyan',\n",
    "                               'blue','orange','green','red','purple','brown','pink'\n",
    "                                ,'gray','olive','cyan']) +\n",
    "                  cycler(linestyle=['-','-','-','-','-','-','-','-','-','-',\n",
    "                                   '--','--','--','--','--','--','--','--','--','--']) +\n",
    "                  cycler(marker=['','','','','','','','','','','','','','','','','','','','']))\n",
    "plt.rc('axes', prop_cycle=default_cycler)\n",
    "df6b.plot(kind='line',logy=True,ylim=(0.01,10000),grid=True)"
   ]
  },
  {
   "cell_type": "code",
   "execution_count": null,
   "metadata": {},
   "outputs": [],
   "source": [
    "df6b.plot(kind='line',ylim=(0.01,1000),xlim=(\"2020-01-22\",\"2020-04-01\"))"
   ]
  },
  {
   "cell_type": "code",
   "execution_count": null,
   "metadata": {},
   "outputs": [],
   "source": []
  },
  {
   "cell_type": "code",
   "execution_count": null,
   "metadata": {},
   "outputs": [],
   "source": [
    "df6.loc[:,('Poland',np.nan)].to_string()"
   ]
  },
  {
   "cell_type": "code",
   "execution_count": null,
   "metadata": {},
   "outputs": [],
   "source": []
  },
  {
   "cell_type": "code",
   "execution_count": null,
   "metadata": {},
   "outputs": [],
   "source": []
  },
  {
   "cell_type": "code",
   "execution_count": null,
   "metadata": {},
   "outputs": [],
   "source": [
    "df6.loc[:,('Poland',np.nan)]"
   ]
  },
  {
   "cell_type": "code",
   "execution_count": null,
   "metadata": {},
   "outputs": [],
   "source": []
  },
  {
   "cell_type": "code",
   "execution_count": null,
   "metadata": {},
   "outputs": [],
   "source": [
    "df5.loc[:,('Mainland China','Anhui')] /= 9999999.\n",
    "df5.head(3)"
   ]
  },
  {
   "cell_type": "code",
   "execution_count": null,
   "metadata": {},
   "outputs": [],
   "source": []
  },
  {
   "cell_type": "code",
   "execution_count": null,
   "metadata": {},
   "outputs": [],
   "source": []
  },
  {
   "cell_type": "code",
   "execution_count": null,
   "metadata": {},
   "outputs": [],
   "source": []
  },
  {
   "cell_type": "code",
   "execution_count": null,
   "metadata": {},
   "outputs": [],
   "source": []
  },
  {
   "cell_type": "code",
   "execution_count": null,
   "metadata": {},
   "outputs": [],
   "source": []
  },
  {
   "cell_type": "code",
   "execution_count": null,
   "metadata": {},
   "outputs": [],
   "source": [
    "df5.to_csv(\"all.csv\")"
   ]
  },
  {
   "cell_type": "code",
   "execution_count": null,
   "metadata": {},
   "outputs": [],
   "source": []
  },
  {
   "cell_type": "code",
   "execution_count": null,
   "metadata": {},
   "outputs": [],
   "source": []
  },
  {
   "cell_type": "code",
   "execution_count": null,
   "metadata": {},
   "outputs": [],
   "source": [
    "df6['idx'] = df6.reset_index().index\n",
    "df6.tail(3)"
   ]
  },
  {
   "cell_type": "code",
   "execution_count": null,
   "metadata": {},
   "outputs": [],
   "source": [
    "df6.to_csv(\"reduced.csv\",sep='\\t',header=False)"
   ]
  },
  {
   "cell_type": "code",
   "execution_count": null,
   "metadata": {},
   "outputs": [],
   "source": []
  },
  {
   "cell_type": "code",
   "execution_count": null,
   "metadata": {},
   "outputs": [],
   "source": [
    "df6.iterrows?"
   ]
  },
  {
   "cell_type": "code",
   "execution_count": null,
   "metadata": {},
   "outputs": [],
   "source": []
  },
  {
   "cell_type": "code",
   "execution_count": null,
   "metadata": {},
   "outputs": [],
   "source": [
    "hb = df6[\"Mainland China\"][\"Hubei\"]\n",
    "hb.index = pd.date_range(start=\"2020-02-22\",periods=hb.size)\n",
    "hb.head(3)"
   ]
  },
  {
   "cell_type": "code",
   "execution_count": null,
   "metadata": {},
   "outputs": [],
   "source": [
    "hb.index = pd.DatetimeIndex?"
   ]
  },
  {
   "cell_type": "code",
   "execution_count": null,
   "metadata": {},
   "outputs": [],
   "source": [
    "pd.date_range(start=\"2020-01-22\",periods=5)"
   ]
  },
  {
   "cell_type": "code",
   "execution_count": null,
   "metadata": {},
   "outputs": [],
   "source": []
  },
  {
   "cell_type": "code",
   "execution_count": null,
   "metadata": {},
   "outputs": [],
   "source": [
    "fit = pd.Series(np.exp(np.arange(0,10,1)/8))\n",
    "fit.index = pd.date_range(start=\"2020-02-22\",periods=fit.size)\n",
    "fit"
   ]
  },
  {
   "cell_type": "code",
   "execution_count": null,
   "metadata": {},
   "outputs": [],
   "source": []
  },
  {
   "cell_type": "code",
   "execution_count": null,
   "metadata": {},
   "outputs": [],
   "source": []
  },
  {
   "cell_type": "code",
   "execution_count": null,
   "metadata": {},
   "outputs": [],
   "source": [
    "3.9*np.log(10.)"
   ]
  },
  {
   "cell_type": "code",
   "execution_count": null,
   "metadata": {},
   "outputs": [],
   "source": []
  },
  {
   "cell_type": "code",
   "execution_count": null,
   "metadata": {},
   "outputs": [],
   "source": []
  },
  {
   "cell_type": "code",
   "execution_count": null,
   "metadata": {},
   "outputs": [],
   "source": []
  },
  {
   "cell_type": "code",
   "execution_count": null,
   "metadata": {},
   "outputs": [],
   "source": []
  }
 ],
 "metadata": {
  "kernelspec": {
   "display_name": "Python 3",
   "language": "python",
   "name": "python3"
  },
  "language_info": {
   "codemirror_mode": {
    "name": "ipython",
    "version": 3
   },
   "file_extension": ".py",
   "mimetype": "text/x-python",
   "name": "python",
   "nbconvert_exporter": "python",
   "pygments_lexer": "ipython3",
   "version": "3.7.4"
  }
 },
 "nbformat": 4,
 "nbformat_minor": 4
}
